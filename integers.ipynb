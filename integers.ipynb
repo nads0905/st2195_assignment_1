{
 "cells": [
  {
   "cell_type": "code",
   "execution_count": 1,
   "id": "7a80d25d",
   "metadata": {},
   "outputs": [],
   "source": [
    "## Method 1: Print Individual Numbers "
   ]
  },
  {
   "cell_type": "code",
   "execution_count": 4,
   "id": "f214a49f",
   "metadata": {},
   "outputs": [
    {
     "name": "stdout",
     "output_type": "stream",
     "text": [
      "1 2 3 4 5 6 7 8 9 10\n"
     ]
    }
   ],
   "source": [
    "print(*range(1, 11))"
   ]
  },
  {
   "cell_type": "code",
   "execution_count": 5,
   "id": "a9f9216c",
   "metadata": {},
   "outputs": [],
   "source": [
    "## Method 2: Print using For loop "
   ]
  },
  {
   "cell_type": "code",
   "execution_count": null,
   "id": "960efcfc",
   "metadata": {},
   "outputs": [
    {
     "name": "stdout",
     "output_type": "stream",
     "text": [
      "1\n",
      "2\n",
      "3\n",
      "4\n",
      "5\n",
      "6\n",
      "7\n",
      "8\n",
      "9\n",
      "10\n"
     ]
    }
   ],
   "source": [
    "for x in range(1, 11): \n",
    "    print(x)\n"
   ]
  },
  {
   "cell_type": "code",
   "execution_count": 9,
   "id": "088ee210",
   "metadata": {},
   "outputs": [
    {
     "name": "stdout",
     "output_type": "stream",
     "text": [
      "1 2 3 4 5 6 7 8 9 10 "
     ]
    }
   ],
   "source": [
    "for x in range(1, 11):\n",
    "    print(x, end=\" \")"
   ]
  },
  {
   "cell_type": "code",
   "execution_count": 10,
   "id": "e86aac4c",
   "metadata": {},
   "outputs": [],
   "source": [
    "## Method 3: while loop "
   ]
  },
  {
   "cell_type": "code",
   "execution_count": 17,
   "id": "a3a82c74",
   "metadata": {},
   "outputs": [
    {
     "name": "stdout",
     "output_type": "stream",
     "text": [
      "1\n",
      "2\n",
      "3\n",
      "4\n",
      "5\n",
      "6\n",
      "7\n",
      "8\n",
      "9\n",
      "10\n"
     ]
    }
   ],
   "source": [
    "x = 1\n",
    "while x <= 10:\n",
    "    print(x)\n",
    "    x = x + 1 #important --> stops the loop. without this, it will print 1 forever because x always stays 1"
   ]
  },
  {
   "cell_type": "code",
   "execution_count": 19,
   "id": "56640d84",
   "metadata": {},
   "outputs": [
    {
     "name": "stdout",
     "output_type": "stream",
     "text": [
      "1 2 3 4 5 6 7 8 9 10 "
     ]
    }
   ],
   "source": [
    "x = 1\n",
    "while x <= 10:\n",
    "    print(x, end=\" \")\n",
    "    x += 1 # this is the same as i = i + 1 just shorter "
   ]
  },
  {
   "cell_type": "code",
   "execution_count": 1,
   "id": "be94d30e",
   "metadata": {},
   "outputs": [],
   "source": [
    "## Method 4: Using while loop"
   ]
  },
  {
   "cell_type": "code",
   "execution_count": 4,
   "id": "1db21b1a",
   "metadata": {},
   "outputs": [
    {
     "name": "stdout",
     "output_type": "stream",
     "text": [
      "1\n",
      "2\n",
      "3\n",
      "4\n",
      "5\n",
      "6\n",
      "7\n",
      "8\n",
      "9\n",
      "10\n"
     ]
    }
   ],
   "source": [
    "x = 1                   #start at 1\n",
    "while x <= 10:          #keep looping while x is less than 1\n",
    "    print(x)\n",
    "    x += 1              #increase x by 1 each time \n"
   ]
  },
  {
   "cell_type": "code",
   "execution_count": 2,
   "id": "448cfcd4",
   "metadata": {},
   "outputs": [
    {
     "name": "stdout",
     "output_type": "stream",
     "text": [
      "1\n",
      "2\n",
      "3\n",
      "4\n",
      "5\n",
      "6\n",
      "7\n",
      "8\n",
      "9\n",
      "10\n",
      "none\n"
     ]
    }
   ],
   "source": [
    "x = 1                   #start at 1\n",
    "while x <= 10:          #keep looping while x is less than 1\n",
    "    print(x)\n",
    "    x += 1              #increase x by 1 each time \n",
    "\n",
    "print(\"none\")"
   ]
  },
  {
   "cell_type": "code",
   "execution_count": 1,
   "id": "e5f25e1c",
   "metadata": {},
   "outputs": [
    {
     "name": "stdout",
     "output_type": "stream",
     "text": [
      "1\n",
      "2\n",
      "3\n",
      "4\n",
      "5\n",
      "6\n",
      "7\n",
      "8\n",
      "9\n",
      "10\n"
     ]
    }
   ],
   "source": [
    "x = 1                   # start at 1\n",
    "\n",
    "while x <= 10:          # loop while x is less than or equal to 10\n",
    "    if x <= 10:\n",
    "        print(x)\n",
    "    else:\n",
    "        print(\"0\")\n",
    "    x += 1              # increase x by 1 each time\n"
   ]
  },
  {
   "cell_type": "code",
   "execution_count": null,
   "id": "fd945214",
   "metadata": {},
   "outputs": [
    {
     "name": "stdout",
     "output_type": "stream",
     "text": [
      "1\n",
      "2\n",
      "3\n",
      "4\n",
      "5\n",
      "6\n",
      "7\n",
      "8\n",
      "9\n",
      "10\n",
      "none\n"
     ]
    }
   ],
   "source": [
    "x = 1                   # start at 1\n",
    "\n",
    "while x <= 10:          # loop while x is less than or equal to 10\n",
    "    print(x)\n",
    "    x += 1\n",
    "\n",
    "print ('none')          # this runs after the loop finishes "
   ]
  }
 ],
 "metadata": {
  "kernelspec": {
   "display_name": "base",
   "language": "python",
   "name": "python3"
  },
  "language_info": {
   "codemirror_mode": {
    "name": "ipython",
    "version": 3
   },
   "file_extension": ".py",
   "mimetype": "text/x-python",
   "name": "python",
   "nbconvert_exporter": "python",
   "pygments_lexer": "ipython3",
   "version": "3.13.5"
  }
 },
 "nbformat": 4,
 "nbformat_minor": 5
}
