{
 "cells": [
  {
   "cell_type": "code",
   "execution_count": 1,
   "id": "7a80d25d",
   "metadata": {},
   "outputs": [],
   "source": [
    "## Method 1: Print Individual Numbers "
   ]
  },
  {
   "cell_type": "code",
   "execution_count": 4,
   "id": "f214a49f",
   "metadata": {},
   "outputs": [
    {
     "name": "stdout",
     "output_type": "stream",
     "text": [
      "1 2 3 4 5 6 7 8 9 10\n"
     ]
    }
   ],
   "source": [
    "print(*range(1, 11))"
   ]
  },
  {
   "cell_type": "code",
   "execution_count": 5,
   "id": "a9f9216c",
   "metadata": {},
   "outputs": [],
   "source": [
    "## Method 2: Print using For loop "
   ]
  },
  {
   "cell_type": "code",
   "execution_count": null,
   "id": "960efcfc",
   "metadata": {},
   "outputs": [
    {
     "name": "stdout",
     "output_type": "stream",
     "text": [
      "1\n",
      "2\n",
      "3\n",
      "4\n",
      "5\n",
      "6\n",
      "7\n",
      "8\n",
      "9\n",
      "10\n"
     ]
    }
   ],
   "source": [
    "for x in range(1, 11): \n",
    "    print(x)\n"
   ]
  },
  {
   "cell_type": "code",
   "execution_count": 9,
   "id": "088ee210",
   "metadata": {},
   "outputs": [
    {
     "name": "stdout",
     "output_type": "stream",
     "text": [
      "1 2 3 4 5 6 7 8 9 10 "
     ]
    }
   ],
   "source": [
    "for x in range(1, 11):\n",
    "    print(x, end=\" \")"
   ]
  },
  {
   "cell_type": "code",
   "execution_count": 10,
   "id": "e86aac4c",
   "metadata": {},
   "outputs": [],
   "source": [
    "## Method 3: while loop "
   ]
  },
  {
   "cell_type": "code",
   "execution_count": 17,
   "id": "a3a82c74",
   "metadata": {},
   "outputs": [
    {
     "name": "stdout",
     "output_type": "stream",
     "text": [
      "1\n",
      "2\n",
      "3\n",
      "4\n",
      "5\n",
      "6\n",
      "7\n",
      "8\n",
      "9\n",
      "10\n"
     ]
    }
   ],
   "source": [
    "x = 1\n",
    "while x <= 10:\n",
    "    print(x)\n",
    "    x = x + 1 #important --> stops the loop. without this, it will print 1 forever because x always stays 1"
   ]
  },
  {
   "cell_type": "code",
   "execution_count": 19,
   "id": "56640d84",
   "metadata": {},
   "outputs": [
    {
     "name": "stdout",
     "output_type": "stream",
     "text": [
      "1 2 3 4 5 6 7 8 9 10 "
     ]
    }
   ],
   "source": [
    "x = 1\n",
    "while x <= 10:\n",
    "    print(x, end=\" \")\n",
    "    x += 1 # this is the same as i = i + 1 just shorter "
   ]
  },
  {
   "cell_type": "code",
   "execution_count": null,
   "id": "be94d30e",
   "metadata": {},
   "outputs": [],
   "source": [
    "## Method 4: Using while loop"
   ]
  },
  {
   "cell_type": "code",
   "execution_count": null,
   "id": "a3fc0b4c",
   "metadata": {},
   "outputs": [
    {
     "name": "stdout",
     "output_type": "stream",
     "text": [
      "1\n",
      "2\n",
      "3\n",
      "4\n",
      "5\n",
      "6\n",
      "7\n",
      "8\n",
      "9\n",
      "10\n"
     ]
    }
   ],
   "source": [
    "x = 1 \n",
    "\n",
    "while x <= 10:\n",
    "    print(x)\n",
    "    x += 1"
   ]
  }
 ],
 "metadata": {
  "kernelspec": {
   "display_name": "base",
   "language": "python",
   "name": "python3"
  },
  "language_info": {
   "codemirror_mode": {
    "name": "ipython",
    "version": 3
   },
   "file_extension": ".py",
   "mimetype": "text/x-python",
   "name": "python",
   "nbconvert_exporter": "python",
   "pygments_lexer": "ipython3",
   "version": "3.13.5"
  }
 },
 "nbformat": 4,
 "nbformat_minor": 5
}
